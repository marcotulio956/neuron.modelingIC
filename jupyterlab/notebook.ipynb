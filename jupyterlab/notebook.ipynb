{
 "cells": [
  {
   "cell_type": "markdown",
   "id": "a16b444a-23da-4ac6-990d-7b665d2dcc87",
   "metadata": {
    "tags": []
   },
   "source": [
    "## Izhikevich Neuron Model"
   ]
  },
  {
   "cell_type": "markdown",
   "id": "4d571262-230a-4459-9d4b-16b2415eef74",
   "metadata": {},
   "source": [
    "### RTL - Representation"
   ]
  },
  {
   "cell_type": "markdown",
   "id": "bbced9ab-cb20-4fa9-b7f0-71f63f94d144",
   "metadata": {},
   "source": [
    "### RTL - Formal Verification"
   ]
  },
  {
   "cell_type": "markdown",
   "id": "dee25fe8-60b4-4260-a05d-a0a60dedcd97",
   "metadata": {},
   "source": [
    "### Logical Synthesis "
   ]
  },
  {
   "cell_type": "markdown",
   "id": "436946a4-b1fc-49e0-abbd-010b0f85345d",
   "metadata": {},
   "source": [
    "### ANALOG - Representation"
   ]
  },
  {
   "cell_type": "markdown",
   "id": "a7f2be03-2c2a-488c-acc0-b7839a92d0eb",
   "metadata": {
    "tags": []
   },
   "source": [
    "## Apendice"
   ]
  },
  {
   "cell_type": "markdown",
   "id": "7fbcf840-a75a-4029-bfe7-72863e75daf0",
   "metadata": {
    "tags": []
   },
   "source": [
    "### IEEE 754 Single Precision (32-bit) Floating Point Standard "
   ]
  },
  {
   "cell_type": "markdown",
   "id": "db84c91a-1701-49e5-a683-5ba65652e69e",
   "metadata": {},
   "source": [
    "### Generating Test Cases for Floating Point Units"
   ]
  },
  {
   "cell_type": "code",
   "execution_count": 9,
   "id": "e8ad4baf-2e51-444b-b65c-1087d6bd1cd7",
   "metadata": {},
   "outputs": [],
   "source": [
    "!python \"../scripts/fp_genTest.py\""
   ]
  },
  {
   "cell_type": "markdown",
   "id": "300e72b2-09e8-40d5-9c92-8bb8ead5eae9",
   "metadata": {},
   "source": [
    "### Asserting Floating Point Units"
   ]
  }
 ],
 "metadata": {
  "kernelspec": {
   "display_name": "Python 3 (ipykernel)",
   "language": "python",
   "name": "python3"
  },
  "language_info": {
   "codemirror_mode": {
    "name": "ipython",
    "version": 3
   },
   "file_extension": ".py",
   "mimetype": "text/x-python",
   "name": "python",
   "nbconvert_exporter": "python",
   "pygments_lexer": "ipython3",
   "version": "3.10.5"
  }
 },
 "nbformat": 4,
 "nbformat_minor": 5
}
